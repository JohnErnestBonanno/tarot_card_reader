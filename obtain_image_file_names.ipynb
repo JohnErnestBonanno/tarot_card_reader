{
 "cells": [
  {
   "cell_type": "code",
   "execution_count": 2,
   "id": "8a4128a6-d9f7-4b68-8c6c-21eeb7a62919",
   "metadata": {},
   "outputs": [],
   "source": [
    "import os\n",
    "import pandas as pd"
   ]
  },
  {
   "cell_type": "code",
   "execution_count": null,
   "id": "d9d3656c-7850-4f29-9e3a-7fb701fb5e53",
   "metadata": {},
   "outputs": [],
   "source": [
    "folder_path = \"/Users/jebbonanno/Documents/workspace/tarot_card_reader/image_folder\"\n",
    "files = os.listdir(folder_path)  # Gets all items (files + folders)\n",
    "files = [f for f in files if os.path.isfile(os.path.join(folder_path, f))]  # Filters only files\n",
    "\n",
    "print(files)"
   ]
  },
  {
   "cell_type": "code",
   "execution_count": null,
   "id": "1c6edbb9-765d-4157-b89a-11612c74dc9c",
   "metadata": {},
   "outputs": [],
   "source": [
    "to_remove = ['CardBacks.jpg','.DS_Store']\n",
    "\n",
    "files = [card for card in files if card not in to_remove]\n",
    "\n",
    "files.sort()"
   ]
  },
  {
   "cell_type": "code",
   "execution_count": null,
   "id": "02c8dbca-c320-45be-adfb-4134bbb78f68",
   "metadata": {},
   "outputs": [],
   "source": [
    "# Define the correct suit order\n",
    "suit_order = {'Wands': 1, 'Cups': 2, 'Swords': 3, 'Pentacles': 4}\n",
    "\n",
    "# Separate Major and Minor Arcana\n",
    "major_arcana = sorted([card for card in files if '-' in card])  # Already numbered properly\n",
    "\n",
    "# Function to extract suit and number without regex\n",
    "def extract_suit_and_number(card):\n",
    "    card = card.replace(\".jpg\", \"\")  # Remove file extension\n",
    "    suit = ''.join([c for c in card if c.isalpha()])  # Get the suit (letters)\n",
    "    number = ''.join([c for c in card if c.isdigit()])  # Get the number (digits)\n",
    "    \n",
    "    if suit in suit_order and number.isdigit():  # Ensure valid suit and number\n",
    "        return (suit_order[suit], int(number))\n",
    "    return (99, 99)  # Default sorting value for unexpected cases\n",
    "\n",
    "# Sort Minor Arcana correctly\n",
    "minor_arcana = sorted(\n",
    "    [card for card in files if '-' not in card],  # Minor Arcana have no '-'\n",
    "    key=extract_suit_and_number\n",
    ")\n",
    "\n",
    "# Combine sorted lists\n",
    "card_order = major_arcana + minor_arcana\n",
    "\n",
    "# Print sorted order\n",
    "for card in card_order:\n",
    "    print(card)"
   ]
  },
  {
   "cell_type": "code",
   "execution_count": 5,
   "id": "471d0b89-1e42-4b83-9bf2-bc02ebdaecbf",
   "metadata": {},
   "outputs": [],
   "source": [
    "df = pd.read_csv('tarot_cards.csv', index_col=0)"
   ]
  },
  {
   "cell_type": "code",
   "execution_count": null,
   "id": "ad6b9a17-2f5d-4e3b-a268-90d6c3df3068",
   "metadata": {},
   "outputs": [],
   "source": [
    "df['file_path'] = card_order"
   ]
  },
  {
   "cell_type": "code",
   "execution_count": null,
   "id": "1f9da756-374e-4715-a09c-826bb58d4df4",
   "metadata": {},
   "outputs": [],
   "source": [
    "#Double Check\n",
    "df.sample(10).sort_values(by='Order')"
   ]
  },
  {
   "cell_type": "code",
   "execution_count": 7,
   "id": "486897ef-57e6-497d-bf70-47afe561fe3d",
   "metadata": {},
   "outputs": [],
   "source": [
    "word_to_number = {\n",
    "    \"zero\": 0, \"one\": 1, 'ace':1, \"two\": 2, \"three\": 3, \"four\": 4,\n",
    "    \"five\": 5, \"six\": 6, \"seven\": 7, \"eight\": 8, \"nine\": 9, 'ten':10\n",
    "}\n",
    "\n",
    "df['number_digit'] = df['Number'].apply(lambda x: word_to_number.get(x.lower(), None))\n",
    "df['number_digit'].fillna(0, inplace=True)\n",
    "df['number_digit'] = df['number_digit'].astype(int)"
   ]
  },
  {
   "cell_type": "code",
   "execution_count": 9,
   "id": "bdb5af80-3244-4769-af5a-207cac54f91e",
   "metadata": {},
   "outputs": [],
   "source": [
    "df.to_csv('tarot_cards.csv')"
   ]
  },
  {
   "cell_type": "code",
   "execution_count": null,
   "id": "7a64bf03-d2e8-453c-8ac2-f3cf3f299a9e",
   "metadata": {},
   "outputs": [],
   "source": []
  },
  {
   "cell_type": "code",
   "execution_count": null,
   "id": "724c235b-9d03-44a0-8d38-a3a41cc9af7e",
   "metadata": {},
   "outputs": [],
   "source": []
  }
 ],
 "metadata": {
  "kernelspec": {
   "display_name": "Python 3 (ipykernel)",
   "language": "python",
   "name": "python3"
  },
  "language_info": {
   "codemirror_mode": {
    "name": "ipython",
    "version": 3
   },
   "file_extension": ".py",
   "mimetype": "text/x-python",
   "name": "python",
   "nbconvert_exporter": "python",
   "pygments_lexer": "ipython3",
   "version": "3.9.13"
  }
 },
 "nbformat": 4,
 "nbformat_minor": 5
}
