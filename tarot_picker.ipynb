{
 "cells": [
  {
   "cell_type": "markdown",
   "id": "c266949f-59c4-4f1f-b3ee-ed1407473370",
   "metadata": {},
   "source": [
    "ToDo:\n",
    "- [X] Pick more than one card\n",
    "- [ ] Modify print statement based on Arcana\n",
    "    - Major *doesn't need* \"the\" infront of it\n",
    "        - Don't want \"the The Tower\"\n",
    "    - Minor does \n",
    "        - \"the Ten of Pentacles\" \n",
    "- [ ] Add meaning? \n",
    "- [ ] Set random seed to 42\n",
    "- [ ] Record - day, time, and item? Put them into a CSV? & Auto Export?\n",
    "- [ ] Set up a Cron Job to randomly run?\n"
   ]
  },
  {
   "cell_type": "code",
   "execution_count": 1,
   "id": "16b1de45-77a4-4358-84c6-691bdef8fc95",
   "metadata": {},
   "outputs": [],
   "source": [
    "import pandas as pd\n",
    "import random\n",
    "from math import comb"
   ]
  },
  {
   "cell_type": "code",
   "execution_count": 4,
   "id": "79ee168d-3448-4e38-b29c-f6620f4d4f41",
   "metadata": {},
   "outputs": [],
   "source": [
    "csv_file_path = '/Users/jebbonanno/Documents/workspace/tarot_card_reader/tarot_cards.csv'"
   ]
  },
  {
   "cell_type": "code",
   "execution_count": 5,
   "id": "0a30acc1-dc14-4a1e-b54d-d1c5b7c1bd0f",
   "metadata": {},
   "outputs": [],
   "source": [
    "tarot_df = pd.read_csv(csv_file_path)"
   ]
  },
  {
   "cell_type": "code",
   "execution_count": 6,
   "id": "23cefb9d-0b01-4879-83b9-60e0cd74452a",
   "metadata": {},
   "outputs": [
    {
     "name": "stdout",
     "output_type": "stream",
     "text": [
      "Probality all Major Arcana: 2.02%\n",
      "Probability all Minor Arcana: 1.91%\n",
      "Probability all Royals (Page, Knight, Queen, King): 0.74%\n"
     ]
    }
   ],
   "source": [
    "#probabilities \n",
    "\n",
    "prob_major_arcana = comb(22, 3) / comb(78, 3)\n",
    "print(f\"Probality all Major Arcana: {round((prob_major_arcana*100),2)}%\")\n",
    "\n",
    "prob_minor_arcana = 4*comb(14, 3) / comb(78, 3)\n",
    "print(f\"Probability all Minor Arcana: {round((prob_minor_arcana*100),2)}%\")\n",
    "\n",
    "prob_royals = comb(16, 3) / comb(78 , 3) \n",
    "print(f\"Probability all Royals (Page, Knight, Queen, King): {round((prob_royals*100),2)}%\")\n"
   ]
  },
  {
   "cell_type": "markdown",
   "id": "abaef9c1-bb76-4d81-992f-cb201862dee9",
   "metadata": {},
   "source": [
    "### Three Card Pull"
   ]
  },
  {
   "cell_type": "code",
   "execution_count": 7,
   "id": "806d94a5-493c-410d-9645-7ce9440d2d64",
   "metadata": {},
   "outputs": [
    {
     "name": "stdout",
     "output_type": "stream",
     "text": [
      "Past: Two of Wands\n",
      "Present: The Lovers\n",
      "Future: Queen of Pentacles\n"
     ]
    }
   ],
   "source": [
    "three_card_pull = tarot_df.sample(3).reset_index(drop=True)\n",
    "\n",
    "for index, row in three_card_pull.iterrows():\n",
    "    if index == 0:\n",
    "        print(f\"Past: {row['Name']}\")\n",
    "    elif index == 1:\n",
    "        print(f\"Present: {row['Name']}\")\n",
    "    elif index == 2:\n",
    "        print(f\"Future: {row['Name']}\")\n",
    "    else:\n",
    "        print(\"Unexpected error\")\n",
    "\n",
    "# print()\n",
    "        \n",
    "# if three_card_pull['Suit'].nunique() == 1:\n",
    "#     print(\"All values in 'Suit' are the same.\")\n",
    "# else:\n",
    "#     print(\"Values in 'Suit' are different.\")\n"
   ]
  },
  {
   "cell_type": "code",
   "execution_count": null,
   "id": "1e3e5039-6cd5-4792-b437-7458f63a8898",
   "metadata": {},
   "outputs": [],
   "source": [
    "three_card_pull['Suit']"
   ]
  },
  {
   "cell_type": "markdown",
   "id": "708b2b30-d296-40cf-88dc-f6bb9a6fc7ad",
   "metadata": {},
   "source": [
    "### Single Pull"
   ]
  },
  {
   "cell_type": "code",
   "execution_count": 8,
   "id": "1de086b9-ca8f-4fe3-b781-3f418ed6890f",
   "metadata": {},
   "outputs": [],
   "source": [
    "def tarot_print_statement(card):\n",
    "    if card[:3] == 'The':\n",
    "        print(f\"You drew {single_pick}.\")\n",
    "    else:\n",
    "        print(f\"You drew the {card}.\")"
   ]
  },
  {
   "cell_type": "code",
   "execution_count": 9,
   "id": "ca0e2921-9abf-417d-8bff-ad882752cce5",
   "metadata": {},
   "outputs": [
    {
     "name": "stdout",
     "output_type": "stream",
     "text": [
      "You drew the Ace of Cups.\n"
     ]
    }
   ],
   "source": [
    "tarot_print_statement(tarot_df['Name'].sample(1).values[0])"
   ]
  },
  {
   "cell_type": "code",
   "execution_count": null,
   "id": "6327b8dc-db5a-41d5-afcc-fe78e66b6223",
   "metadata": {},
   "outputs": [],
   "source": []
  }
 ],
 "metadata": {
  "kernelspec": {
   "display_name": "Python 3 (ipykernel)",
   "language": "python",
   "name": "python3"
  },
  "language_info": {
   "codemirror_mode": {
    "name": "ipython",
    "version": 3
   },
   "file_extension": ".py",
   "mimetype": "text/x-python",
   "name": "python",
   "nbconvert_exporter": "python",
   "pygments_lexer": "ipython3",
   "version": "3.9.13"
  }
 },
 "nbformat": 4,
 "nbformat_minor": 5
}
