{
 "cells": [
  {
   "cell_type": "markdown",
   "id": "c266949f-59c4-4f1f-b3ee-ed1407473370",
   "metadata": {},
   "source": [
    "ToDo:\n",
    "- [X] Pick more than one card\n",
    "- [ ] Modify print statement based on Arcana\n",
    "    - Major *doesn't need* \"the\" infront of it\n",
    "        - Don't want \"the The Tower\"\n",
    "        - how to deal with \"Strength\", does it print as \"the Strength\" \n",
    "    - Minor does \n",
    "        - \"the Ten of Pentacles\" \n",
    "- [ ] Add meaning? \n",
    "- [X] Set random seed to 42\n",
    "- [X] Record - day, time, and item? Put them into a CSV? & Auto Export?\n",
    "- [ ] Set up a Cron Job to randomly run?\n"
   ]
  },
  {
   "cell_type": "code",
   "execution_count": 1,
   "id": "16b1de45-77a4-4358-84c6-691bdef8fc95",
   "metadata": {},
   "outputs": [],
   "source": [
    "import pandas as pd\n",
    "\n",
    "import random\n",
    "random.seed(10)\n",
    "\n",
    "from math import comb\n",
    "import datetime as dt\n",
    "import os\n",
    "from pathlib import Path\n",
    "\n",
    "#current_time = dt.datetime.now()\n",
    "#print(current_time)"
   ]
  },
  {
   "cell_type": "code",
   "execution_count": 2,
   "id": "79ee168d-3448-4e38-b29c-f6620f4d4f41",
   "metadata": {},
   "outputs": [],
   "source": [
    "csv_file_path = '/Users/jebbonanno/Documents/workspace/tarot_card_reader/tarot_cards.csv'"
   ]
  },
  {
   "cell_type": "code",
   "execution_count": 3,
   "id": "0a30acc1-dc14-4a1e-b54d-d1c5b7c1bd0f",
   "metadata": {},
   "outputs": [],
   "source": [
    "tarot_base_df = pd.read_csv(csv_file_path)"
   ]
  },
  {
   "cell_type": "code",
   "execution_count": 4,
   "id": "f136e1b4-ef33-4042-9d88-6adfdd35f5e4",
   "metadata": {},
   "outputs": [],
   "source": [
    "word_to_number = {\n",
    "    \"zero\": 0, \"one\": 1, 'ace':1, \"two\": 2, \"three\": 3, \"four\": 4,\n",
    "    \"five\": 5, \"six\": 6, \"seven\": 7, \"eight\": 8, \"nine\": 9, 'ten':10\n",
    "}\n",
    "\n",
    "tarot_base_df['number_digit'] = tarot_base_df['Number'].apply(lambda x: word_to_number.get(x.lower(), None))\n",
    "tarot_base_df['number_digit'].fillna(0, inplace=True)\n",
    "tarot_base_df['number_digit'] = tarot_base_df['number_digit'].astype(int)"
   ]
  },
  {
   "cell_type": "code",
   "execution_count": 5,
   "id": "c601b83b-ef34-47ef-847d-8db4b4054613",
   "metadata": {},
   "outputs": [
    {
     "data": {
      "text/html": [
       "<div>\n",
       "<style scoped>\n",
       "    .dataframe tbody tr th:only-of-type {\n",
       "        vertical-align: middle;\n",
       "    }\n",
       "\n",
       "    .dataframe tbody tr th {\n",
       "        vertical-align: top;\n",
       "    }\n",
       "\n",
       "    .dataframe thead th {\n",
       "        text-align: right;\n",
       "    }\n",
       "</style>\n",
       "<table border=\"1\" class=\"dataframe\">\n",
       "  <thead>\n",
       "    <tr style=\"text-align: right;\">\n",
       "      <th></th>\n",
       "      <th>Name</th>\n",
       "      <th>Suit</th>\n",
       "      <th>Number</th>\n",
       "      <th>Order</th>\n",
       "      <th>number_digit</th>\n",
       "    </tr>\n",
       "  </thead>\n",
       "  <tbody>\n",
       "    <tr>\n",
       "      <th>22</th>\n",
       "      <td>Ace of Wands</td>\n",
       "      <td>Wands</td>\n",
       "      <td>Ace</td>\n",
       "      <td>23</td>\n",
       "      <td>1</td>\n",
       "    </tr>\n",
       "    <tr>\n",
       "      <th>32</th>\n",
       "      <td>Page of Wands</td>\n",
       "      <td>Wands</td>\n",
       "      <td>Page</td>\n",
       "      <td>32</td>\n",
       "      <td>0</td>\n",
       "    </tr>\n",
       "    <tr>\n",
       "      <th>33</th>\n",
       "      <td>Knight of Wands</td>\n",
       "      <td>Wands</td>\n",
       "      <td>Knight</td>\n",
       "      <td>33</td>\n",
       "      <td>0</td>\n",
       "    </tr>\n",
       "    <tr>\n",
       "      <th>44</th>\n",
       "      <td>Nine of Cups</td>\n",
       "      <td>Cups</td>\n",
       "      <td>Nine</td>\n",
       "      <td>44</td>\n",
       "      <td>9</td>\n",
       "    </tr>\n",
       "    <tr>\n",
       "      <th>48</th>\n",
       "      <td>Queen of Cups</td>\n",
       "      <td>Cups</td>\n",
       "      <td>Queen</td>\n",
       "      <td>48</td>\n",
       "      <td>0</td>\n",
       "    </tr>\n",
       "    <tr>\n",
       "      <th>50</th>\n",
       "      <td>Ace of Swords</td>\n",
       "      <td>Swords</td>\n",
       "      <td>Ace</td>\n",
       "      <td>50</td>\n",
       "      <td>1</td>\n",
       "    </tr>\n",
       "    <tr>\n",
       "      <th>54</th>\n",
       "      <td>Five of Swords</td>\n",
       "      <td>Swords</td>\n",
       "      <td>Five</td>\n",
       "      <td>54</td>\n",
       "      <td>5</td>\n",
       "    </tr>\n",
       "    <tr>\n",
       "      <th>63</th>\n",
       "      <td>King of Swords</td>\n",
       "      <td>Swords</td>\n",
       "      <td>King</td>\n",
       "      <td>63</td>\n",
       "      <td>0</td>\n",
       "    </tr>\n",
       "    <tr>\n",
       "      <th>65</th>\n",
       "      <td>Two of Pentacles</td>\n",
       "      <td>Pentacles</td>\n",
       "      <td>Two</td>\n",
       "      <td>65</td>\n",
       "      <td>2</td>\n",
       "    </tr>\n",
       "    <tr>\n",
       "      <th>69</th>\n",
       "      <td>Six of Pentacles</td>\n",
       "      <td>Pentacles</td>\n",
       "      <td>Six</td>\n",
       "      <td>69</td>\n",
       "      <td>6</td>\n",
       "    </tr>\n",
       "  </tbody>\n",
       "</table>\n",
       "</div>"
      ],
      "text/plain": [
       "                Name       Suit  Number  Order  number_digit\n",
       "22      Ace of Wands      Wands     Ace     23             1\n",
       "32     Page of Wands      Wands    Page     32             0\n",
       "33   Knight of Wands      Wands  Knight     33             0\n",
       "44      Nine of Cups       Cups    Nine     44             9\n",
       "48     Queen of Cups       Cups   Queen     48             0\n",
       "50     Ace of Swords     Swords     Ace     50             1\n",
       "54    Five of Swords     Swords    Five     54             5\n",
       "63    King of Swords     Swords    King     63             0\n",
       "65  Two of Pentacles  Pentacles     Two     65             2\n",
       "69  Six of Pentacles  Pentacles     Six     69             6"
      ]
     },
     "execution_count": 5,
     "metadata": {},
     "output_type": "execute_result"
    }
   ],
   "source": [
    "tarot_base_df.sample(10).sort_index()"
   ]
  },
  {
   "cell_type": "code",
   "execution_count": 6,
   "id": "23cefb9d-0b01-4879-83b9-60e0cd74452a",
   "metadata": {},
   "outputs": [
    {
     "name": "stdout",
     "output_type": "stream",
     "text": [
      "Probality all Major Arcana: 2.02%\n",
      "Probability all Minor Arcana: 1.91%\n",
      "Three of a Kind Probability: 0.07%\n",
      "Probability of all Royals (Page, Knight, Queen, King): 0.74%\n",
      "Probability of a Flush: 1.91%\n",
      "Probability of a Straight: 0.67%\n"
     ]
    }
   ],
   "source": [
    "#probabilities \n",
    "\n",
    "prob_major_arcana = comb(22, 3) / comb(78, 3)\n",
    "print(f\"Probality all Major Arcana: {round((prob_major_arcana*100),2)}%\")\n",
    "\n",
    "prob_minor_arcana = 4*comb(14, 3) / comb(78, 3)\n",
    "print(f\"Probability all Minor Arcana: {round((prob_minor_arcana*100),2)}%\")\n",
    "\n",
    "prob_three_kind = (comb(4,3)*14)/comb(78,3)\n",
    "print(f\"Three of a Kind Probability: {round((prob_three_kind*100),2)}%\")\n",
    "\n",
    "prob_royals = comb(16, 3) / comb(78 , 3) \n",
    "print(f\"Probability of all Royals (Page, Knight, Queen, King): {round((prob_royals*100),2)}%\")\n",
    "\n",
    "prob_flush = (4 * comb(14,3)) / comb(78 , 3) \n",
    "print(f\"Probability of a Flush: {round((prob_flush*100),2)}%\")\n",
    "\n",
    "#prob_straight\n",
    "single_straight = 4**3  # 4 choices per suit, 3 ranks in a straight\n",
    "all_straight = 8 * single_straight #(8 possible straights)\n",
    "prob_straight = (all_straight) / comb(78 , 3) \n",
    "print(f\"Probability of a Straight: {round((prob_straight*100),2)}%\")"
   ]
  },
  {
   "cell_type": "markdown",
   "id": "286a7182-61eb-4872-b0a3-83958a476cad",
   "metadata": {},
   "source": [
    "### Condition Check"
   ]
  },
  {
   "cell_type": "code",
   "execution_count": 7,
   "id": "e46c3c34-5856-4eef-8f64-2ad929c2bdaa",
   "metadata": {},
   "outputs": [],
   "source": [
    "def condition_check(three_card_pull):\n",
    "    \n",
    "    court_list = ['Page', 'Knight', 'Queen', 'King']\n",
    "    \n",
    "    if three_card_pull['Number'].nunique() == 1:\n",
    "        print(\"Three of a Kind\")\n",
    "        print(f\"Three of a Kind Probability: {round((prob_three_kind*100),2)}%\")\n",
    "        \n",
    "    elif three_card_pull['Suit'].nunique() == 1 and three_card_pull['Suit'][0] == 'Major Arcane':\n",
    "        print(\"All Major Arcana\")\n",
    "        print(f\"Probality all Major Arcana: {round((prob_major_arcana*100),2)}%\")\n",
    "    \n",
    "    elif three_card_pull['Suit'].nunique() == 1:\n",
    "        print(\"A Three Card Flush\")\n",
    "        print(f\"Probability of all Flush: {round((prob_flush*100),2)}%\")\n",
    "        \n",
    "    elif (three_card_pull['number_digit'][2] - three_card_pull['number_digit'][1] == 1 and \n",
    "          three_card_pull['number_digit'][1] - three_card_pull['number_digit'][0] == 1):\n",
    "        print(\"A Straight\")\n",
    "        print(f\"Probability of a Straight: {round((prob_straight*100),2)}%\")\n",
    "        \n",
    "    elif three_card_pull['Number'].isin(court_list).all() == True:\n",
    "        print(\"A Court Pull\")\n",
    "        print(f\"Probability of all Royals (Page, Knight, Queen, King): {round((prob_royals*100),2)}%\")\n",
    "    # else:\n",
    "    #     print('Nothing Special')"
   ]
  },
  {
   "cell_type": "markdown",
   "id": "abaef9c1-bb76-4d81-992f-cb201862dee9",
   "metadata": {},
   "source": [
    "### Three Card Pull"
   ]
  },
  {
   "cell_type": "code",
   "execution_count": 8,
   "id": "1b274616-3baf-468e-a643-e85a07aac420",
   "metadata": {},
   "outputs": [],
   "source": [
    "def three_card_pull_function():\n",
    "    three_card_pull_df = tarot_base_df.sample(3).reset_index(drop=True)\n",
    "\n",
    "    # Extracting values\n",
    "    past = three_card_pull_df.loc[0, \"Name\"]\n",
    "    present = three_card_pull_df.loc[1, \"Name\"]\n",
    "    future = three_card_pull_df.loc[2, \"Name\"]\n",
    "\n",
    "    # Printing the values\n",
    "    print(f\"Past: {past}\")\n",
    "    print(f\"Present: {present}\")\n",
    "    print(f\"Future: {future}\")\n",
    "\n",
    "    # Call condition_check with the DataFrame\n",
    "    condition_check(three_card_pull_df)\n",
    "\n",
    "    # Return values as a dictionary\n",
    "    return {\"past\": past, \"present\": present, \"future\": future}"
   ]
  },
  {
   "cell_type": "code",
   "execution_count": 9,
   "id": "4410e1c9-7390-4bd8-bc98-d331c034a0d4",
   "metadata": {},
   "outputs": [],
   "source": [
    "def generate_tarot_pull():\n",
    "    custom_col_order = ['date','time','past','present','future']\n",
    "    \n",
    "    new_tarot_pull = pd.DataFrame([three_card_pull_function()])\n",
    "    \n",
    "    new_tarot_pull['date'] = pd.Timestamp.now().date()\n",
    "    new_tarot_pull['time'] = pd.Timestamp.now().strftime(\"%I:%M %p\")\n",
    "    \n",
    "    # Ensure column order exists in DataFrame\n",
    "    for col in custom_col_order:\n",
    "        if col not in new_tarot_pull.columns:\n",
    "            new_tarot_pull[col] = None  # Add missing columns\n",
    "    \n",
    "    new_tarot_pull = new_tarot_pull[custom_col_order]\n",
    "    \n",
    "    return new_tarot_pull"
   ]
  },
  {
   "cell_type": "markdown",
   "id": "4cf77b63-dcc6-47f6-b3c1-33127cc64109",
   "metadata": {},
   "source": [
    "def generate_tarot_pull():\n",
    "    custom_col_order = ['date', 'time', 'past', 'present', 'future']\n",
    "    \n",
    "    # Ensure the function returns a dictionary\n",
    "    new_tarot_pull = pd.DataFrame([three_card_pull_function()])\n",
    "    \n",
    "    # Add date and time explicitly\n",
    "    new_tarot_pull['date'] = pd.Timestamp.now().date()\n",
    "    new_tarot_pull['time'] = pd.Timestamp.now().strftime(\"%I:%M %p\")\n",
    "    \n",
    "    # Ensure column order exists in DataFrame\n",
    "    for col in custom_col_order:\n",
    "        if col not in new_tarot_pull.columns:\n",
    "            new_tarot_pull[col] = None  # Add missing columns\n",
    "    \n",
    "    # Reorder columns\n",
    "    new_tarot_pull = new_tarot_pull[custom_col_order]\n",
    "    \n",
    "    return new_tarot_pull"
   ]
  },
  {
   "cell_type": "code",
   "execution_count": 16,
   "id": "3258d309-23dc-461e-a658-4fc473572b5e",
   "metadata": {},
   "outputs": [
    {
     "name": "stdout",
     "output_type": "stream",
     "text": [
      "Past: The Magician\n",
      "Present: Queen of Wands\n",
      "Future: Queen of Swords\n",
      "Added to Existing File\n"
     ]
    }
   ],
   "source": [
    "#File Exists \n",
    "#Daily Pull Explore\n",
    "\n",
    "from pathlib import Path\n",
    "\n",
    "#custom_col_order = ['date','time','past','present','future']\n",
    "\n",
    "file_name = 'tarot_record.csv'\n",
    "\n",
    "file_path = Path.cwd() / file_name \n",
    "\n",
    "if file_path.exists():\n",
    "    tarot_df = pd.read_csv(file_name)\n",
    "    \n",
    "    new_pull = generate_tarot_pull()\n",
    "    \n",
    "    new_pull['date'] = pd.to_datetime(new_pull['date']).dt.date\n",
    "    tarot_df['date'] = pd.to_datetime(tarot_df['date']).dt.date\n",
    "    \n",
    "    tarot_df = pd.concat([tarot_df, new_pull], ignore_index=True)\n",
    "    tarot_df.to_csv(file_name, index=False)\n",
    "    print(\"Added to Existing File\")\n",
    "    \n",
    "else:\n",
    "    starter_tarot_file = generate_tarot_pull()\n",
    "    starter_tarot_file.to_csv(file_name, index=False)\n",
    "    print(\"Created a New File\")"
   ]
  },
  {
   "cell_type": "code",
   "execution_count": 17,
   "id": "8b72c2c7-92bc-4e6c-9a89-a886c565e04c",
   "metadata": {},
   "outputs": [],
   "source": [
    "test = pd.read_csv(file_name)"
   ]
  },
  {
   "cell_type": "code",
   "execution_count": 18,
   "id": "b67fa2a4-9733-44ad-aa65-ce92a5a28ba5",
   "metadata": {},
   "outputs": [
    {
     "data": {
      "text/html": [
       "<div>\n",
       "<style scoped>\n",
       "    .dataframe tbody tr th:only-of-type {\n",
       "        vertical-align: middle;\n",
       "    }\n",
       "\n",
       "    .dataframe tbody tr th {\n",
       "        vertical-align: top;\n",
       "    }\n",
       "\n",
       "    .dataframe thead th {\n",
       "        text-align: right;\n",
       "    }\n",
       "</style>\n",
       "<table border=\"1\" class=\"dataframe\">\n",
       "  <thead>\n",
       "    <tr style=\"text-align: right;\">\n",
       "      <th></th>\n",
       "      <th>date</th>\n",
       "      <th>time</th>\n",
       "      <th>past</th>\n",
       "      <th>present</th>\n",
       "      <th>future</th>\n",
       "    </tr>\n",
       "  </thead>\n",
       "  <tbody>\n",
       "    <tr>\n",
       "      <th>0</th>\n",
       "      <td>2025-02-24</td>\n",
       "      <td>09:43 AM</td>\n",
       "      <td>Eight of Cups</td>\n",
       "      <td>Four of Cups</td>\n",
       "      <td>Six of Swords</td>\n",
       "    </tr>\n",
       "    <tr>\n",
       "      <th>1</th>\n",
       "      <td>2025-02-24</td>\n",
       "      <td>09:44 AM</td>\n",
       "      <td>Two of Swords</td>\n",
       "      <td>Ace of Cups</td>\n",
       "      <td>Seven of Wands</td>\n",
       "    </tr>\n",
       "    <tr>\n",
       "      <th>2</th>\n",
       "      <td>2025-02-24</td>\n",
       "      <td>09:44 AM</td>\n",
       "      <td>The Magician</td>\n",
       "      <td>Queen of Wands</td>\n",
       "      <td>Queen of Swords</td>\n",
       "    </tr>\n",
       "  </tbody>\n",
       "</table>\n",
       "</div>"
      ],
      "text/plain": [
       "         date      time           past         present           future\n",
       "0  2025-02-24  09:43 AM  Eight of Cups    Four of Cups    Six of Swords\n",
       "1  2025-02-24  09:44 AM  Two of Swords     Ace of Cups   Seven of Wands\n",
       "2  2025-02-24  09:44 AM   The Magician  Queen of Wands  Queen of Swords"
      ]
     },
     "execution_count": 18,
     "metadata": {},
     "output_type": "execute_result"
    }
   ],
   "source": [
    "test.head()"
   ]
  },
  {
   "cell_type": "markdown",
   "id": "708b2b30-d296-40cf-88dc-f6bb9a6fc7ad",
   "metadata": {},
   "source": [
    "### Single Pull"
   ]
  },
  {
   "cell_type": "code",
   "execution_count": null,
   "id": "1de086b9-ca8f-4fe3-b781-3f418ed6890f",
   "metadata": {},
   "outputs": [],
   "source": [
    "def tarot_print_statement(card):\n",
    "    if card[:3] == 'The':\n",
    "        print(f\"You drew {single_pick}.\")\n",
    "    else:\n",
    "        print(f\"You drew the {card}.\")"
   ]
  },
  {
   "cell_type": "code",
   "execution_count": null,
   "id": "ca0e2921-9abf-417d-8bff-ad882752cce5",
   "metadata": {},
   "outputs": [],
   "source": [
    "tarot_print_statement(tarot_df['Name'].sample(1).values[0])"
   ]
  }
 ],
 "metadata": {
  "kernelspec": {
   "display_name": "Python 3 (ipykernel)",
   "language": "python",
   "name": "python3"
  },
  "language_info": {
   "codemirror_mode": {
    "name": "ipython",
    "version": 3
   },
   "file_extension": ".py",
   "mimetype": "text/x-python",
   "name": "python",
   "nbconvert_exporter": "python",
   "pygments_lexer": "ipython3",
   "version": "3.9.13"
  }
 },
 "nbformat": 4,
 "nbformat_minor": 5
}
