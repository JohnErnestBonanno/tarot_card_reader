{
 "cells": [
  {
   "cell_type": "markdown",
   "id": "c266949f-59c4-4f1f-b3ee-ed1407473370",
   "metadata": {},
   "source": [
    "ToDo:\n",
    "- [X] Pick more than one card\n",
    "- [ ] Modify print statement based on Arcana\n",
    "    - Major *doesn't need* \"the\" infront of it\n",
    "        - Don't want \"the The Tower\"\n",
    "        - how to deal with \"Strength\", does it print as \"the Strength\" \n",
    "    - Minor does \n",
    "        - \"the Ten of Pentacles\" \n",
    "- [ ] Add meaning? \n",
    "- [ ] Set random seed to 42\n",
    "- [ ] Record - day, time, and item? Put them into a CSV? & Auto Export?\n",
    "- [ ] Set up a Cron Job to randomly run?\n"
   ]
  },
  {
   "cell_type": "code",
   "execution_count": 21,
   "id": "16b1de45-77a4-4358-84c6-691bdef8fc95",
   "metadata": {},
   "outputs": [],
   "source": [
    "import pandas as pd\n",
    "import random\n",
    "from math import comb\n",
    "import datetime as dt\n",
    "import os\n",
    "from pathlib import Path\n",
    "\n",
    "#current_time = dt.datetime.now()\n",
    "#print(current_time)"
   ]
  },
  {
   "cell_type": "code",
   "execution_count": 2,
   "id": "79ee168d-3448-4e38-b29c-f6620f4d4f41",
   "metadata": {},
   "outputs": [],
   "source": [
    "csv_file_path = '/Users/jebbonanno/Documents/workspace/tarot_card_reader/tarot_cards.csv'"
   ]
  },
  {
   "cell_type": "code",
   "execution_count": 3,
   "id": "0a30acc1-dc14-4a1e-b54d-d1c5b7c1bd0f",
   "metadata": {},
   "outputs": [],
   "source": [
    "tarot_df = pd.read_csv(csv_file_path)"
   ]
  },
  {
   "cell_type": "code",
   "execution_count": 4,
   "id": "f136e1b4-ef33-4042-9d88-6adfdd35f5e4",
   "metadata": {},
   "outputs": [],
   "source": [
    "word_to_number = {\n",
    "    \"zero\": 0, \"one\": 1, 'ace':1, \"two\": 2, \"three\": 3, \"four\": 4,\n",
    "    \"five\": 5, \"six\": 6, \"seven\": 7, \"eight\": 8, \"nine\": 9, 'ten':10\n",
    "}\n",
    "\n",
    "tarot_df['number_digit'] = tarot_df['Number'].apply(lambda x: word_to_number.get(x.lower(), None))\n",
    "tarot_df['number_digit'].fillna(0, inplace=True)\n",
    "tarot_df['number_digit'] = tarot_df['number_digit'].astype(int)"
   ]
  },
  {
   "cell_type": "code",
   "execution_count": 5,
   "id": "c601b83b-ef34-47ef-847d-8db4b4054613",
   "metadata": {},
   "outputs": [
    {
     "data": {
      "text/html": [
       "<div>\n",
       "<style scoped>\n",
       "    .dataframe tbody tr th:only-of-type {\n",
       "        vertical-align: middle;\n",
       "    }\n",
       "\n",
       "    .dataframe tbody tr th {\n",
       "        vertical-align: top;\n",
       "    }\n",
       "\n",
       "    .dataframe thead th {\n",
       "        text-align: right;\n",
       "    }\n",
       "</style>\n",
       "<table border=\"1\" class=\"dataframe\">\n",
       "  <thead>\n",
       "    <tr style=\"text-align: right;\">\n",
       "      <th></th>\n",
       "      <th>Name</th>\n",
       "      <th>Suit</th>\n",
       "      <th>Number</th>\n",
       "      <th>Order</th>\n",
       "      <th>number_digit</th>\n",
       "    </tr>\n",
       "  </thead>\n",
       "  <tbody>\n",
       "    <tr>\n",
       "      <th>1</th>\n",
       "      <td>The Magician</td>\n",
       "      <td>Major Arcane</td>\n",
       "      <td>1</td>\n",
       "      <td>2</td>\n",
       "      <td>0</td>\n",
       "    </tr>\n",
       "    <tr>\n",
       "      <th>7</th>\n",
       "      <td>The Chariot</td>\n",
       "      <td>Major Arcane</td>\n",
       "      <td>7</td>\n",
       "      <td>8</td>\n",
       "      <td>0</td>\n",
       "    </tr>\n",
       "    <tr>\n",
       "      <th>15</th>\n",
       "      <td>The Devil</td>\n",
       "      <td>Major Arcane</td>\n",
       "      <td>15</td>\n",
       "      <td>16</td>\n",
       "      <td>0</td>\n",
       "    </tr>\n",
       "    <tr>\n",
       "      <th>16</th>\n",
       "      <td>The Tower</td>\n",
       "      <td>Major Arcane</td>\n",
       "      <td>16</td>\n",
       "      <td>17</td>\n",
       "      <td>0</td>\n",
       "    </tr>\n",
       "    <tr>\n",
       "      <th>28</th>\n",
       "      <td>Six of Wands</td>\n",
       "      <td>Wands</td>\n",
       "      <td>Six</td>\n",
       "      <td>28</td>\n",
       "      <td>6</td>\n",
       "    </tr>\n",
       "    <tr>\n",
       "      <th>34</th>\n",
       "      <td>Queen of Wands</td>\n",
       "      <td>Wands</td>\n",
       "      <td>Queen</td>\n",
       "      <td>34</td>\n",
       "      <td>0</td>\n",
       "    </tr>\n",
       "    <tr>\n",
       "      <th>41</th>\n",
       "      <td>Six of Cups</td>\n",
       "      <td>Cups</td>\n",
       "      <td>Six</td>\n",
       "      <td>41</td>\n",
       "      <td>6</td>\n",
       "    </tr>\n",
       "    <tr>\n",
       "      <th>62</th>\n",
       "      <td>Queen of Swords</td>\n",
       "      <td>Swords</td>\n",
       "      <td>Queen</td>\n",
       "      <td>62</td>\n",
       "      <td>0</td>\n",
       "    </tr>\n",
       "    <tr>\n",
       "      <th>70</th>\n",
       "      <td>Seven of Pentacles</td>\n",
       "      <td>Pentacles</td>\n",
       "      <td>Seven</td>\n",
       "      <td>70</td>\n",
       "      <td>7</td>\n",
       "    </tr>\n",
       "    <tr>\n",
       "      <th>75</th>\n",
       "      <td>Queen of Pentacles</td>\n",
       "      <td>Pentacles</td>\n",
       "      <td>Queen</td>\n",
       "      <td>76</td>\n",
       "      <td>0</td>\n",
       "    </tr>\n",
       "  </tbody>\n",
       "</table>\n",
       "</div>"
      ],
      "text/plain": [
       "                  Name          Suit Number  Order  number_digit\n",
       "1         The Magician  Major Arcane      1      2             0\n",
       "7          The Chariot  Major Arcane      7      8             0\n",
       "15           The Devil  Major Arcane     15     16             0\n",
       "16           The Tower  Major Arcane     16     17             0\n",
       "28        Six of Wands         Wands    Six     28             6\n",
       "34      Queen of Wands         Wands  Queen     34             0\n",
       "41         Six of Cups          Cups    Six     41             6\n",
       "62     Queen of Swords        Swords  Queen     62             0\n",
       "70  Seven of Pentacles     Pentacles  Seven     70             7\n",
       "75  Queen of Pentacles     Pentacles  Queen     76             0"
      ]
     },
     "execution_count": 5,
     "metadata": {},
     "output_type": "execute_result"
    }
   ],
   "source": [
    "tarot_df.sample(10).sort_index()"
   ]
  },
  {
   "cell_type": "code",
   "execution_count": 6,
   "id": "23cefb9d-0b01-4879-83b9-60e0cd74452a",
   "metadata": {},
   "outputs": [
    {
     "name": "stdout",
     "output_type": "stream",
     "text": [
      "Probality all Major Arcana: 2.02%\n",
      "Probability all Minor Arcana: 1.91%\n",
      "Three of a Kind Probability: 0.07%\n",
      "Probability of all Royals (Page, Knight, Queen, King): 0.74%\n",
      "Probability of all Flush: 1.91%\n",
      "Probability of a Straight: 0.67%\n"
     ]
    }
   ],
   "source": [
    "#probabilities \n",
    "\n",
    "prob_major_arcana = comb(22, 3) / comb(78, 3)\n",
    "print(f\"Probality all Major Arcana: {round((prob_major_arcana*100),2)}%\")\n",
    "\n",
    "prob_minor_arcana = 4*comb(14, 3) / comb(78, 3)\n",
    "print(f\"Probability all Minor Arcana: {round((prob_minor_arcana*100),2)}%\")\n",
    "\n",
    "prob_three_kind = (comb(4,3)*14)/comb(78,3)\n",
    "print(f\"Three of a Kind Probability: {round((prob_three_kind*100),2)}%\")\n",
    "\n",
    "prob_royals = comb(16, 3) / comb(78 , 3) \n",
    "print(f\"Probability of all Royals (Page, Knight, Queen, King): {round((prob_royals*100),2)}%\")\n",
    "\n",
    "prob_flush = (4 * comb(14,3)) / comb(78 , 3) \n",
    "print(f\"Probability of a Flush: {round((prob_flush*100),2)}%\")\n",
    "\n",
    "#prob_straight\n",
    "single_straight = 4**3  # 4 choices per suit, 3 ranks in a straight\n",
    "all_straight = 8 * single_straight #(8 possible straights)\n",
    "prob_straight = (all_straight) / comb(78 , 3) \n",
    "print(f\"Probability of a Straight: {round((prob_straight*100),2)}%\")"
   ]
  },
  {
   "cell_type": "markdown",
   "id": "286a7182-61eb-4872-b0a3-83958a476cad",
   "metadata": {},
   "source": [
    "### Condition Check"
   ]
  },
  {
   "cell_type": "code",
   "execution_count": 7,
   "id": "e46c3c34-5856-4eef-8f64-2ad929c2bdaa",
   "metadata": {},
   "outputs": [],
   "source": [
    "def condition_check(three_card_pull):\n",
    "    \n",
    "    court_list = ['Page', 'Knight', 'Queen', 'King']\n",
    "    \n",
    "    if three_card_pull['Number'].nunique() == 1:\n",
    "        print(\"Three of a Kind\")\n",
    "        print(f\"Three of a Kind Probability: {round((prob_three_kind*100),2)}%\")\n",
    "        \n",
    "    elif three_card_pull['Suit'].nunique() == 1 and three_card_pull['Suit'][0] == 'Major Arcane':\n",
    "        print(\"All Major Arcana\")\n",
    "        print(f\"Probality all Major Arcana: {round((prob_major_arcana*100),2)}%\")\n",
    "    \n",
    "    elif three_card_pull['Suit'].nunique() == 1:\n",
    "        print(\"A Three Card Flush\")\n",
    "        print(f\"Probability of all Flush: {round((prob_flush*100),2)}%\")\n",
    "        \n",
    "    elif (three_card_pull['number_digit'][2] - three_card_pull['number_digit'][1] == 1 and \n",
    "          three_card_pull['number_digit'][1] - three_card_pull['number_digit'][0] == 1):\n",
    "        print(\"A Straight\")\n",
    "        print(f\"Probability of a Straight: {round((prob_straight*100),2)}%\")\n",
    "        \n",
    "    elif three_card_pull['Number'].isin(court_list).all() == True:\n",
    "        print(\"A Court Pull\")\n",
    "        print(f\"Probability of all Royals (Page, Knight, Queen, King): {round((prob_royals*100),2)}%\")\n",
    "    # else:\n",
    "    #     print('Nothing Special')"
   ]
  },
  {
   "cell_type": "markdown",
   "id": "abaef9c1-bb76-4d81-992f-cb201862dee9",
   "metadata": {},
   "source": [
    "### Three Card Pull"
   ]
  },
  {
   "cell_type": "code",
   "execution_count": 25,
   "id": "1b274616-3baf-468e-a643-e85a07aac420",
   "metadata": {},
   "outputs": [],
   "source": [
    "def three_card_pull_function():\n",
    "    three_card_pull_df = tarot_df.sample(3).reset_index(drop=True)\n",
    "\n",
    "    # Extracting values\n",
    "    past = three_card_pull_df.loc[0, \"Name\"]\n",
    "    present = three_card_pull_df.loc[1, \"Name\"]\n",
    "    future = three_card_pull_df.loc[2, \"Name\"]\n",
    "\n",
    "    # Printing the values\n",
    "    print(f\"Past: {past}\")\n",
    "    print(f\"Present: {present}\")\n",
    "    print(f\"Future: {future}\")\n",
    "\n",
    "    # Call condition_check with the DataFrame\n",
    "    condition_check(three_card_pull_df)\n",
    "\n",
    "    # Return values as a dictionary\n",
    "    return {\"past\": past, \"present\": present, \"future\": future}"
   ]
  },
  {
   "cell_type": "code",
   "execution_count": 32,
   "id": "6d0c5c86-d7e9-44ee-a3ef-fb023fdb4106",
   "metadata": {},
   "outputs": [
    {
     "name": "stdout",
     "output_type": "stream",
     "text": [
      "Past: Knight of Wands\n",
      "Present: Death\n",
      "Future: Nine of Swords\n"
     ]
    },
    {
     "data": {
      "text/plain": [
       "{'past': 'Knight of Wands', 'present': 'Death', 'future': 'Nine of Swords'}"
      ]
     },
     "execution_count": 32,
     "metadata": {},
     "output_type": "execute_result"
    }
   ],
   "source": [
    "three_card_pull_function()"
   ]
  },
  {
   "cell_type": "code",
   "execution_count": 35,
   "id": "7b9af8a7-87c4-40f4-a9b4-4de96c2c333c",
   "metadata": {},
   "outputs": [
    {
     "name": "stdout",
     "output_type": "stream",
     "text": [
      "Past: The Emperor\n",
      "Present: Six of Wands\n",
      "Future: The Empress\n"
     ]
    }
   ],
   "source": [
    "custom_col_order = [\n",
    "    'date','time','past','present','future'\n",
    "]\n",
    "\n",
    "df = pd.DataFrame([three_card_pull_function()])\n",
    "df['date'] = pd.Timestamp.now().date()\n",
    "df['time'] = pd.Timestamp.now().strftime(\"%I:%M %p\")\n",
    "\n",
    "df = df[custom_col_order]\n",
    "\n",
    "#df.head()"
   ]
  },
  {
   "cell_type": "code",
   "execution_count": 36,
   "id": "ca9d9599-b952-4bf8-8224-34db0dab11e9",
   "metadata": {},
   "outputs": [
    {
     "data": {
      "text/html": [
       "<div>\n",
       "<style scoped>\n",
       "    .dataframe tbody tr th:only-of-type {\n",
       "        vertical-align: middle;\n",
       "    }\n",
       "\n",
       "    .dataframe tbody tr th {\n",
       "        vertical-align: top;\n",
       "    }\n",
       "\n",
       "    .dataframe thead th {\n",
       "        text-align: right;\n",
       "    }\n",
       "</style>\n",
       "<table border=\"1\" class=\"dataframe\">\n",
       "  <thead>\n",
       "    <tr style=\"text-align: right;\">\n",
       "      <th></th>\n",
       "      <th>date</th>\n",
       "      <th>time</th>\n",
       "      <th>past</th>\n",
       "      <th>present</th>\n",
       "      <th>future</th>\n",
       "    </tr>\n",
       "  </thead>\n",
       "  <tbody>\n",
       "    <tr>\n",
       "      <th>0</th>\n",
       "      <td>2025-02-18</td>\n",
       "      <td>09:38 AM</td>\n",
       "      <td>The Emperor</td>\n",
       "      <td>Six of Wands</td>\n",
       "      <td>The Empress</td>\n",
       "    </tr>\n",
       "  </tbody>\n",
       "</table>\n",
       "</div>"
      ],
      "text/plain": [
       "         date      time         past       present       future\n",
       "0  2025-02-18  09:38 AM  The Emperor  Six of Wands  The Empress"
      ]
     },
     "execution_count": 36,
     "metadata": {},
     "output_type": "execute_result"
    }
   ],
   "source": [
    "df.head()"
   ]
  },
  {
   "cell_type": "code",
   "execution_count": 8,
   "id": "806d94a5-493c-410d-9645-7ce9440d2d64",
   "metadata": {},
   "outputs": [],
   "source": [
    "#Old Way:\n",
    "def three_card_pull_function():  # Renamed function to avoid conflict\n",
    "    three_card_pull_df = tarot_df.sample(3).reset_index(drop=True)  # Renamed the variable\n",
    "\n",
    "    for index, row in three_card_pull_df.iterrows():\n",
    "        if index == 0:\n",
    "            print(f\"Past: {row['Name']}\")\n",
    "        elif index == 1:\n",
    "            print(f\"Present: {row['Name']}\")\n",
    "        elif index == 2:\n",
    "            print(f\"Future: {row['Name']}\")\n",
    "        else:\n",
    "            print(\"Unexpected error\")\n",
    "\n",
    "    condition_check(three_card_pull_df)"
   ]
  },
  {
   "cell_type": "code",
   "execution_count": 9,
   "id": "02793e44-4892-40fb-8d09-24edcac9bff9",
   "metadata": {},
   "outputs": [
    {
     "name": "stdout",
     "output_type": "stream",
     "text": [
      "Past: Seven of Wands\n",
      "Present: King of Cups\n",
      "Future: Page of Pentacles\n"
     ]
    }
   ],
   "source": [
    "three_card_pull_function()"
   ]
  },
  {
   "cell_type": "code",
   "execution_count": 24,
   "id": "f7c8925e-6ce1-4ca5-94a4-a02b7a339207",
   "metadata": {},
   "outputs": [
    {
     "name": "stdout",
     "output_type": "stream",
     "text": [
      "Better make one\n"
     ]
    }
   ],
   "source": [
    "#File Exists \n",
    "from pathlib import Path\n",
    "\n",
    "file_name = 'tarot_record.csv'\n",
    "\n",
    "\n",
    "file_path = Path.cwd() / file_name \n",
    "\n",
    "if file_path.exists():\n",
    "    print(\"File exists\")\n",
    "else:\n",
    "    column_names:\n",
    "\n"
   ]
  },
  {
   "cell_type": "code",
   "execution_count": 12,
   "id": "adcdb4a9-1f67-43e7-9b7d-1d4a3f449556",
   "metadata": {},
   "outputs": [
    {
     "data": {
      "text/plain": [
       "'/Users/jebbonanno/Documents/workspace/tarot_card_reader'"
      ]
     },
     "execution_count": 12,
     "metadata": {},
     "output_type": "execute_result"
    }
   ],
   "source": [
    "pwd"
   ]
  },
  {
   "cell_type": "code",
   "execution_count": null,
   "id": "7cd9be3a-4cd2-4d3a-b1c8-a934c42c5ac1",
   "metadata": {},
   "outputs": [],
   "source": []
  },
  {
   "cell_type": "code",
   "execution_count": null,
   "id": "a810d3ad-1720-4e89-a3fe-1d7b175eff5b",
   "metadata": {},
   "outputs": [],
   "source": []
  },
  {
   "cell_type": "code",
   "execution_count": null,
   "id": "27123e76-417b-4f3b-ae37-de44720b5285",
   "metadata": {},
   "outputs": [],
   "source": [
    "for i in range(0,1):\n",
    "    three_card_pull_function()\n",
    "    print()"
   ]
  },
  {
   "cell_type": "markdown",
   "id": "708b2b30-d296-40cf-88dc-f6bb9a6fc7ad",
   "metadata": {},
   "source": [
    "### Single Pull"
   ]
  },
  {
   "cell_type": "code",
   "execution_count": null,
   "id": "1de086b9-ca8f-4fe3-b781-3f418ed6890f",
   "metadata": {},
   "outputs": [],
   "source": [
    "def tarot_print_statement(card):\n",
    "    if card[:3] == 'The':\n",
    "        print(f\"You drew {single_pick}.\")\n",
    "    else:\n",
    "        print(f\"You drew the {card}.\")"
   ]
  },
  {
   "cell_type": "code",
   "execution_count": null,
   "id": "ca0e2921-9abf-417d-8bff-ad882752cce5",
   "metadata": {},
   "outputs": [],
   "source": [
    "tarot_print_statement(tarot_df['Name'].sample(1).values[0])"
   ]
  },
  {
   "cell_type": "code",
   "execution_count": null,
   "id": "6327b8dc-db5a-41d5-afcc-fe78e66b6223",
   "metadata": {},
   "outputs": [],
   "source": []
  }
 ],
 "metadata": {
  "kernelspec": {
   "display_name": "Python 3 (ipykernel)",
   "language": "python",
   "name": "python3"
  },
  "language_info": {
   "codemirror_mode": {
    "name": "ipython",
    "version": 3
   },
   "file_extension": ".py",
   "mimetype": "text/x-python",
   "name": "python",
   "nbconvert_exporter": "python",
   "pygments_lexer": "ipython3",
   "version": "3.9.13"
  }
 },
 "nbformat": 4,
 "nbformat_minor": 5
}
