{
 "cells": [
  {
   "cell_type": "markdown",
   "id": "c266949f-59c4-4f1f-b3ee-ed1407473370",
   "metadata": {},
   "source": [
    "ToDo:\n",
    "- [X] Pick more than one card\n",
    "- [ ] Modify print statement based on Arcana\n",
    "    - Major *doesn't need* \"the\" infront of it\n",
    "        - Don't want \"the The Tower\"\n",
    "        - how to deal with \"Strength\", does it print as \"the Strength\" \n",
    "    - Minor does \n",
    "        - \"the Ten of Pentacles\" \n",
    "- [ ] Add meaning? \n",
    "- [X] Set random seed to 42\n",
    "- [X] Record - day, time, and item? Put them into a CSV? & Auto Export?\n",
    "- [ ] Set up a Cron Job to randomly run?\n"
   ]
  },
  {
   "cell_type": "code",
   "execution_count": null,
   "id": "16b1de45-77a4-4358-84c6-691bdef8fc95",
   "metadata": {},
   "outputs": [],
   "source": [
    "import pandas as pd\n",
    "\n",
    "import random\n",
    "random.seed(10)\n",
    "\n",
    "from math import comb\n",
    "import datetime as dt\n",
    "import os\n",
    "from pathlib import Path\n",
    "\n",
    "#current_time = dt.datetime.now()\n",
    "#print(current_time)"
   ]
  },
  {
   "cell_type": "code",
   "execution_count": null,
   "id": "79ee168d-3448-4e38-b29c-f6620f4d4f41",
   "metadata": {},
   "outputs": [],
   "source": [
    "csv_file_path = '/Users/jebbonanno/Documents/workspace/tarot_card_reader/tarot_cards.csv'"
   ]
  },
  {
   "cell_type": "code",
   "execution_count": null,
   "id": "0a30acc1-dc14-4a1e-b54d-d1c5b7c1bd0f",
   "metadata": {},
   "outputs": [],
   "source": [
    "tarot_base_df = pd.read_csv(csv_file_path, index_col = 0)"
   ]
  },
  {
   "cell_type": "code",
   "execution_count": null,
   "id": "7b6e7ec3-b3bd-4a5c-ba8f-45b1b5ec572f",
   "metadata": {},
   "outputs": [],
   "source": [
    "tarot_base_df.sample(10).sort_index()"
   ]
  },
  {
   "cell_type": "code",
   "execution_count": null,
   "id": "f136e1b4-ef33-4042-9d88-6adfdd35f5e4",
   "metadata": {},
   "outputs": [],
   "source": [
    "word_to_number = {\n",
    "    \"zero\": 0, \"one\": 1, 'ace':1, \"two\": 2, \"three\": 3, \"four\": 4,\n",
    "    \"five\": 5, \"six\": 6, \"seven\": 7, \"eight\": 8, \"nine\": 9, 'ten':10\n",
    "}\n",
    "\n",
    "tarot_base_df['number_digit'] = tarot_base_df['Number'].apply(lambda x: word_to_number.get(x.lower(), None))\n",
    "tarot_base_df['number_digit'].fillna(0, inplace=True)\n",
    "tarot_base_df['number_digit'] = tarot_base_df['number_digit'].astype(int)"
   ]
  },
  {
   "cell_type": "code",
   "execution_count": null,
   "id": "c601b83b-ef34-47ef-847d-8db4b4054613",
   "metadata": {},
   "outputs": [],
   "source": [
    "tarot_base_df.sample(10).sort_index()"
   ]
  },
  {
   "cell_type": "code",
   "execution_count": null,
   "id": "23cefb9d-0b01-4879-83b9-60e0cd74452a",
   "metadata": {},
   "outputs": [],
   "source": [
    "#probabilities \n",
    "\n",
    "prob_major_arcana = comb(22, 3) / comb(78, 3)\n",
    "print(f\"Probality all Major Arcana: {round((prob_major_arcana*100),2)}%\")\n",
    "\n",
    "prob_minor_arcana = 4*comb(14, 3) / comb(78, 3)\n",
    "print(f\"Probability all Minor Arcana: {round((prob_minor_arcana*100),2)}%\")\n",
    "\n",
    "prob_three_kind = (comb(4,3)*14)/comb(78,3)\n",
    "print(f\"Three of a Kind Probability: {round((prob_three_kind*100),2)}%\")\n",
    "\n",
    "prob_royals = comb(16, 3) / comb(78 , 3) \n",
    "print(f\"Probability of all Royals (Page, Knight, Queen, King): {round((prob_royals*100),2)}%\")\n",
    "\n",
    "prob_flush = (4 * comb(14,3)) / comb(78 , 3) \n",
    "print(f\"Probability of a Flush: {round((prob_flush*100),2)}%\")\n",
    "\n",
    "#prob_straight\n",
    "single_straight = 4**3  # 4 choices per suit, 3 ranks in a straight\n",
    "all_straight = 8 * single_straight #(8 possible straights)\n",
    "prob_straight = (all_straight) / comb(78 , 3) \n",
    "print(f\"Probability of a Straight: {round((prob_straight*100),2)}%\")"
   ]
  },
  {
   "cell_type": "markdown",
   "id": "286a7182-61eb-4872-b0a3-83958a476cad",
   "metadata": {},
   "source": [
    "### Condition Check"
   ]
  },
  {
   "cell_type": "code",
   "execution_count": null,
   "id": "e46c3c34-5856-4eef-8f64-2ad929c2bdaa",
   "metadata": {},
   "outputs": [],
   "source": [
    "def condition_check(three_card_pull):\n",
    "    \n",
    "    court_list = ['Page', 'Knight', 'Queen', 'King']\n",
    "    \n",
    "    if three_card_pull['Number'].nunique() == 1:\n",
    "        print(\"Three of a Kind\")\n",
    "        print(f\"Three of a Kind Probability: {round((prob_three_kind*100),2)}%\")\n",
    "        \n",
    "    elif three_card_pull['Suit'].nunique() == 1 and three_card_pull['Suit'][0] == 'Major Arcane':\n",
    "        print(\"All Major Arcana\")\n",
    "        print(f\"Probality all Major Arcana: {round((prob_major_arcana*100),2)}%\")\n",
    "    \n",
    "    elif three_card_pull['Suit'].nunique() == 1:\n",
    "        print(\"A Three Card Flush\")\n",
    "        print(f\"Probability of all Flush: {round((prob_flush*100),2)}%\")\n",
    "        \n",
    "    elif (three_card_pull['number_digit'][2] - three_card_pull['number_digit'][1] == 1 and \n",
    "          three_card_pull['number_digit'][1] - three_card_pull['number_digit'][0] == 1):\n",
    "        print(\"A Straight\")\n",
    "        print(f\"Probability of a Straight: {round((prob_straight*100),2)}%\")\n",
    "        \n",
    "    elif three_card_pull['Number'].isin(court_list).all() == True:\n",
    "        print(\"A Court Pull\")\n",
    "        print(f\"Probability of all Royals (Page, Knight, Queen, King): {round((prob_royals*100),2)}%\")\n",
    "    # else:\n",
    "    #     print('Nothing Special')"
   ]
  },
  {
   "cell_type": "markdown",
   "id": "abaef9c1-bb76-4d81-992f-cb201862dee9",
   "metadata": {},
   "source": [
    "### Three Card Pull"
   ]
  },
  {
   "cell_type": "code",
   "execution_count": null,
   "id": "1b274616-3baf-468e-a643-e85a07aac420",
   "metadata": {},
   "outputs": [],
   "source": [
    "def three_card_pull_function():\n",
    "    three_card_pull_df = tarot_base_df.sample(3).reset_index(drop=True)\n",
    "\n",
    "    # Extracting values\n",
    "    past = three_card_pull_df.loc[0, \"Name\"]\n",
    "    present = three_card_pull_df.loc[1, \"Name\"]\n",
    "    future = three_card_pull_df.loc[2, \"Name\"]\n",
    "\n",
    "    # Printing the values\n",
    "    print(f\"Past: {past}\")\n",
    "    print(f\"Present: {present}\")\n",
    "    print(f\"Future: {future}\")\n",
    "\n",
    "    # Call condition_check with the DataFrame\n",
    "    condition_check(three_card_pull_df)\n",
    "\n",
    "    # Return values as a dictionary\n",
    "    return {\"past\": past, \"present\": present, \"future\": future}"
   ]
  },
  {
   "cell_type": "code",
   "execution_count": null,
   "id": "4410e1c9-7390-4bd8-bc98-d331c034a0d4",
   "metadata": {},
   "outputs": [],
   "source": [
    "def generate_tarot_pull():\n",
    "    custom_col_order = ['date','time','past','present','future']\n",
    "    \n",
    "    new_tarot_pull = pd.DataFrame([three_card_pull_function()])\n",
    "    \n",
    "    new_tarot_pull['date'] = pd.Timestamp.now().date()\n",
    "    new_tarot_pull['time'] = pd.Timestamp.now().strftime(\"%I:%M %p\")\n",
    "    \n",
    "    # Ensure column order exists in DataFrame\n",
    "    for col in custom_col_order:\n",
    "        if col not in new_tarot_pull.columns:\n",
    "            new_tarot_pull[col] = None  # Add missing columns\n",
    "    \n",
    "    new_tarot_pull = new_tarot_pull[custom_col_order]\n",
    "    \n",
    "    return new_tarot_pull"
   ]
  },
  {
   "cell_type": "markdown",
   "id": "4cf77b63-dcc6-47f6-b3c1-33127cc64109",
   "metadata": {},
   "source": [
    "def generate_tarot_pull():\n",
    "    custom_col_order = ['date', 'time', 'past', 'present', 'future']\n",
    "    \n",
    "    # Ensure the function returns a dictionary\n",
    "    new_tarot_pull = pd.DataFrame([three_card_pull_function()])\n",
    "    \n",
    "    # Add date and time explicitly\n",
    "    new_tarot_pull['date'] = pd.Timestamp.now().date()\n",
    "    new_tarot_pull['time'] = pd.Timestamp.now().strftime(\"%I:%M %p\")\n",
    "    \n",
    "    # Ensure column order exists in DataFrame\n",
    "    for col in custom_col_order:\n",
    "        if col not in new_tarot_pull.columns:\n",
    "            new_tarot_pull[col] = None  # Add missing columns\n",
    "    \n",
    "    # Reorder columns\n",
    "    new_tarot_pull = new_tarot_pull[custom_col_order]\n",
    "    \n",
    "    return new_tarot_pull"
   ]
  },
  {
   "cell_type": "code",
   "execution_count": null,
   "id": "3258d309-23dc-461e-a658-4fc473572b5e",
   "metadata": {},
   "outputs": [],
   "source": [
    "#File Exists \n",
    "#Daily Pull Explore\n",
    "\n",
    "from pathlib import Path\n",
    "\n",
    "#custom_col_order = ['date','time','past','present','future']\n",
    "\n",
    "file_name = 'tarot_record.csv'\n",
    "\n",
    "file_path = Path.cwd() / file_name \n",
    "\n",
    "if file_path.exists():\n",
    "    tarot_df = pd.read_csv(file_name)\n",
    "    \n",
    "    new_pull = generate_tarot_pull()\n",
    "    \n",
    "    new_pull['date'] = pd.to_datetime(new_pull['date']).dt.date\n",
    "    tarot_df['date'] = pd.to_datetime(tarot_df['date']).dt.date\n",
    "    \n",
    "    tarot_df = pd.concat([tarot_df, new_pull], ignore_index=True)\n",
    "    tarot_df.to_csv(file_name, index=False)\n",
    "    print(\"Added to Existing File\")\n",
    "    \n",
    "else:\n",
    "    starter_tarot_file = generate_tarot_pull()\n",
    "    starter_tarot_file.to_csv(file_name, index=False)\n",
    "    print(\"Created a New File\")"
   ]
  },
  {
   "cell_type": "code",
   "execution_count": null,
   "id": "8b72c2c7-92bc-4e6c-9a89-a886c565e04c",
   "metadata": {},
   "outputs": [],
   "source": [
    "test = pd.read_csv(file_name)"
   ]
  },
  {
   "cell_type": "code",
   "execution_count": null,
   "id": "b67fa2a4-9733-44ad-aa65-ce92a5a28ba5",
   "metadata": {},
   "outputs": [],
   "source": [
    "test.head()"
   ]
  },
  {
   "cell_type": "markdown",
   "id": "708b2b30-d296-40cf-88dc-f6bb9a6fc7ad",
   "metadata": {},
   "source": [
    "### Single Pull"
   ]
  },
  {
   "cell_type": "code",
   "execution_count": null,
   "id": "1de086b9-ca8f-4fe3-b781-3f418ed6890f",
   "metadata": {},
   "outputs": [],
   "source": [
    "def tarot_print_statement(card):\n",
    "    if card[:3] == 'The':\n",
    "        print(f\"You drew {single_pick}.\")\n",
    "    else:\n",
    "        print(f\"You drew the {card}.\")"
   ]
  },
  {
   "cell_type": "code",
   "execution_count": null,
   "id": "ca0e2921-9abf-417d-8bff-ad882752cce5",
   "metadata": {},
   "outputs": [],
   "source": [
    "tarot_print_statement(tarot_df['Name'].sample(1).values[0])"
   ]
  }
 ],
 "metadata": {
  "kernelspec": {
   "display_name": "Python 3 (ipykernel)",
   "language": "python",
   "name": "python3"
  },
  "language_info": {
   "codemirror_mode": {
    "name": "ipython",
    "version": 3
   },
   "file_extension": ".py",
   "mimetype": "text/x-python",
   "name": "python",
   "nbconvert_exporter": "python",
   "pygments_lexer": "ipython3",
   "version": "3.9.13"
  }
 },
 "nbformat": 4,
 "nbformat_minor": 5
}
